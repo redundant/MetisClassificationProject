{
 "cells": [
  {
   "cell_type": "code",
   "execution_count": 7,
   "metadata": {},
   "outputs": [],
   "source": [
    "import pandas as pd\n",
    "import numpy as np\n",
    "\n",
    "import matplotlib.pyplot as plt\n",
    "import seaborn as sns\n",
    "\n",
    "from sklearn.linear_model import LogisticRegression\n",
    "from sklearn.model_selection import train_test_split, cross_validate, GridSearchCV\n",
    "from sklearn.ensemble import RandomForestClassifier, VotingClassifier\n",
    "from sklearn.naive_bayes import BernoulliNB, GaussianNB\n",
    "from sklearn.neighbors import KNeighborsClassifier\n",
    "from sklearn.metrics import confusion_matrix, f1_score, roc_curve, roc_auc_score"
   ]
  },
  {
   "cell_type": "code",
   "execution_count": 8,
   "metadata": {},
   "outputs": [],
   "source": [
    "match_data = pd.read_csv(\"data/role_data.csv\")"
   ]
  },
  {
   "cell_type": "code",
   "execution_count": 9,
   "metadata": {},
   "outputs": [
    {
     "data": {
      "text/plain": [
       "Index(['top_vs', 'top_mastery', 'side', 'first_brick', 'first_blood',\n",
       "       'first_dragon', 'first_herald', 'first_baron', 'first_inhib',\n",
       "       'num_towers', 'num_dragons', 'num_barons', 'num_inhibs', 'result',\n",
       "       'jungle_vs', 'jungle_mastery', 'mid_vs', 'mid_mastery', 'adc_vs',\n",
       "       'adc_mastery', 'sup_vs', 'sup_mastery'],\n",
       "      dtype='object')"
      ]
     },
     "execution_count": 9,
     "metadata": {},
     "output_type": "execute_result"
    }
   ],
   "source": [
    "match_data.columns"
   ]
  },
  {
   "cell_type": "markdown",
   "metadata": {},
   "source": [
    "### Feature Time\n",
    "\n",
    "Let's first decide which features not to include for this analysis. We're not going to include numbers of inhibs, towers, dragons, or barons as these reflect late game state. In particular, one cannot destroy the nexus without taking 5 towers and one inhib, so this is not good to use predictively. Further we're not going to use first baron and first inhib for similar reasons."
   ]
  },
  {
   "cell_type": "code",
   "execution_count": 10,
   "metadata": {},
   "outputs": [],
   "source": [
    "X_feat = ['top_vs', 'top_mastery', 'first_brick', 'first_blood',\n",
    "       'first_dragon', 'first_herald',\n",
    "       'jungle_vs', 'jungle_mastery', 'mid_vs', 'mid_mastery', 'adc_vs',\n",
    "       'adc_mastery', 'sup_vs', 'sup_mastery']\n",
    "y_feat = ['result']"
   ]
  },
  {
   "cell_type": "markdown",
   "metadata": {},
   "source": [
    "### Train Test Split"
   ]
  },
  {
   "cell_type": "code",
   "execution_count": 11,
   "metadata": {},
   "outputs": [],
   "source": [
    "X_train, X_test, y_train, y_test = train_test_split(match_data[X_feat],match_data[y_feat],train_size=.8, random_state=262)"
   ]
  },
  {
   "cell_type": "markdown",
   "metadata": {},
   "source": [
    "### Let's Try Some Models\n",
    "\n",
    "We're going to try random forests, logistic regression, and naive bayes with default parameters (sometimes explicitly stated to suppress a warning), then tune hyperparameters on the winner. With more time, we could do hyperparameters on each model before chosing which one. We're going to look at accuracy, precision, recall, f1 score, and roc_auc as our metrics."
   ]
  },
  {
   "cell_type": "code",
   "execution_count": 12,
   "metadata": {},
   "outputs": [],
   "source": [
    "scoring = [\"accuracy\",\"precision\",\"recall\",\"f1\",\"roc_auc\"]"
   ]
  },
  {
   "cell_type": "code",
   "execution_count": 13,
   "metadata": {},
   "outputs": [],
   "source": [
    "rfc_model = RandomForestClassifier(n_estimators=100)\n",
    "\n",
    "rfc_scores = cross_validate(rfc_model,X_train,y_train.to_numpy().ravel(),cv=10,scoring=scoring)"
   ]
  },
  {
   "cell_type": "code",
   "execution_count": 14,
   "metadata": {},
   "outputs": [
    {
     "name": "stdout",
     "output_type": "stream",
     "text": [
      "fit_time 0.5195828676223755\n",
      "score_time 0.11547484397888183\n",
      "test_accuracy 0.7107204953076511\n",
      "test_precision 0.6870562721683096\n",
      "test_recall 0.7044117647058824\n",
      "test_f1 0.6939256502717985\n",
      "test_roc_auc 0.7735413234214245\n"
     ]
    }
   ],
   "source": [
    "for key, val in zip(rfc_scores.keys(),rfc_scores.values()):\n",
    "    print(key,np.mean(val))"
   ]
  },
  {
   "cell_type": "code",
   "execution_count": 15,
   "metadata": {},
   "outputs": [],
   "source": [
    "lr_model = LogisticRegression(solver=\"lbfgs\")\n",
    "\n",
    "lr_scores = cross_validate(lr_model,X_train,y_train.to_numpy().ravel(),cv=10,scoring=scoring)"
   ]
  },
  {
   "cell_type": "code",
   "execution_count": 16,
   "metadata": {},
   "outputs": [
    {
     "name": "stdout",
     "output_type": "stream",
     "text": [
      "fit_time 0.032644462585449216\n",
      "score_time 0.030062341690063478\n",
      "test_accuracy 0.46958170848079106\n",
      "test_precision 0.4390224676403297\n",
      "test_recall 0.5540346907993967\n",
      "test_f1 0.48628816657762197\n",
      "test_roc_auc 0.45998661839415445\n"
     ]
    }
   ],
   "source": [
    "for key, val in zip(lr_scores.keys(),lr_scores.values()):\n",
    "    print(key,np.mean(val))"
   ]
  },
  {
   "cell_type": "code",
   "execution_count": 17,
   "metadata": {},
   "outputs": [],
   "source": [
    "nb_model = GaussianNB()\n",
    "\n",
    "nb_scores =  cross_validate(nb_model,X_train,y_train.to_numpy().ravel(),cv=10,scoring=scoring)"
   ]
  },
  {
   "cell_type": "code",
   "execution_count": 18,
   "metadata": {},
   "outputs": [
    {
     "name": "stdout",
     "output_type": "stream",
     "text": [
      "fit_time 0.013073611259460449\n",
      "score_time 0.02918117046356201\n",
      "test_accuracy 0.5387408425940536\n",
      "test_precision 0.4995074189095929\n",
      "test_recall 0.1858597285067873\n",
      "test_f1 0.26737478271115017\n",
      "test_roc_auc 0.5700329603585353\n"
     ]
    }
   ],
   "source": [
    "for key, val in zip(nb_scores.keys(),nb_scores.values()):\n",
    "    print(key,np.mean(val))"
   ]
  },
  {
   "cell_type": "code",
   "execution_count": 19,
   "metadata": {},
   "outputs": [],
   "source": [
    "knn_model = KNeighborsClassifier(n_neighbors=5)\n",
    "knn_scores = cross_validate(knn_model,X_train,y_train.to_numpy().ravel(),cv=10,scoring=scoring)"
   ]
  },
  {
   "cell_type": "code",
   "execution_count": 20,
   "metadata": {},
   "outputs": [
    {
     "name": "stdout",
     "output_type": "stream",
     "text": [
      "fit_time 0.012026548385620117\n",
      "score_time 0.1097498893737793\n",
      "test_accuracy 0.5305751038778561\n",
      "test_precision 0.4958050677486431\n",
      "test_recall 0.4559200603318251\n",
      "test_f1 0.47319452636745557\n",
      "test_roc_auc 0.5357565676092854\n"
     ]
    }
   ],
   "source": [
    "for key, val in zip(knn_scores.keys(),knn_scores.values()):\n",
    "    print(key,np.mean(val))"
   ]
  },
  {
   "cell_type": "markdown",
   "metadata": {},
   "source": [
    "### Random Forest Tuning\n",
    "\n",
    "So a random forest by far outperformed in all metrics. Let's do a grid search tuning now. "
   ]
  },
  {
   "cell_type": "code",
   "execution_count": 21,
   "metadata": {},
   "outputs": [],
   "source": [
    "rfc_param = {\"n_estimators\":range(100,1000,100),\"max_depth\":range(1,8)}\n",
    "\n",
    "rfc_model = RandomForestClassifier()"
   ]
  },
  {
   "cell_type": "code",
   "execution_count": 22,
   "metadata": {},
   "outputs": [
    {
     "data": {
      "text/plain": [
       "GridSearchCV(cv=5, error_score='raise-deprecating',\n",
       "             estimator=RandomForestClassifier(bootstrap=True, class_weight=None,\n",
       "                                              criterion='gini', max_depth=None,\n",
       "                                              max_features='auto',\n",
       "                                              max_leaf_nodes=None,\n",
       "                                              min_impurity_decrease=0.0,\n",
       "                                              min_impurity_split=None,\n",
       "                                              min_samples_leaf=1,\n",
       "                                              min_samples_split=2,\n",
       "                                              min_weight_fraction_leaf=0.0,\n",
       "                                              n_estimators='warn', n_jobs=None,\n",
       "                                              oob_score=False,\n",
       "                                              random_state=None, verbose=0,\n",
       "                                              warm_start=False),\n",
       "             iid='warn', n_jobs=None,\n",
       "             param_grid={'max_depth': range(1, 8),\n",
       "                         'n_estimators': range(100, 1000, 100)},\n",
       "             pre_dispatch='2*n_jobs', refit=False, return_train_score=False,\n",
       "             scoring=['accuracy', 'precision', 'recall', 'f1', 'roc_auc'],\n",
       "             verbose=0)"
      ]
     },
     "execution_count": 22,
     "metadata": {},
     "output_type": "execute_result"
    }
   ],
   "source": [
    "gs_cv = GridSearchCV(rfc_model, rfc_param, scoring = scoring, refit=False, cv = 5)\n",
    "gs_cv.fit(X_train,y_train.to_numpy().ravel())"
   ]
  },
  {
   "cell_type": "code",
   "execution_count": 23,
   "metadata": {},
   "outputs": [
    {
     "data": {
      "text/plain": [
       "array([0.61631534, 0.61707062, 0.62320096, 0.62006612, 0.61940312,\n",
       "       0.61780527, 0.61470668, 0.6239193 , 0.62542519, 0.66786034,\n",
       "       0.67853353, 0.66426715, 0.67020439, 0.66330167, 0.67060552,\n",
       "       0.67356169, 0.66937374, 0.68053944, 0.68997883, 0.67449935,\n",
       "       0.69097406, 0.6862681 , 0.68439667, 0.69134912, 0.68293951,\n",
       "       0.68956408, 0.68546409, 0.69107231, 0.6975782 , 0.69509585,\n",
       "       0.69516905, 0.69637691, 0.69380776, 0.69850517, 0.69220632,\n",
       "       0.69499628, 0.70868939, 0.70348897, 0.69533624, 0.69935553,\n",
       "       0.69761419, 0.70656645, 0.69909902, 0.70909805, 0.7041174 ,\n",
       "       0.69438986, 0.70432762, 0.70646074, 0.70226215, 0.70508289,\n",
       "       0.70078377, 0.70290487, 0.70033018, 0.70629409, 0.68343841,\n",
       "       0.7037058 , 0.70606589, 0.6999345 , 0.6945163 , 0.69782195,\n",
       "       0.69806137, 0.69860431, 0.69955499])"
      ]
     },
     "execution_count": 23,
     "metadata": {},
     "output_type": "execute_result"
    }
   ],
   "source": [
    "gs_cv.cv_results_[\"mean_test_f1\"]"
   ]
  },
  {
   "cell_type": "code",
   "execution_count": 24,
   "metadata": {},
   "outputs": [],
   "source": [
    "maximum = 0\n",
    "max_ind = 0\n",
    "\n",
    "for i, val in enumerate(gs_cv.cv_results_[\"mean_test_f1\"]):\n",
    "    if val > maximum:\n",
    "        max_ind = i\n",
    "        maximum = val"
   ]
  },
  {
   "cell_type": "code",
   "execution_count": 28,
   "metadata": {},
   "outputs": [
    {
     "data": {
      "text/plain": [
       "0.7090980499879317"
      ]
     },
     "execution_count": 28,
     "metadata": {},
     "output_type": "execute_result"
    }
   ],
   "source": [
    "gs_cv.cv_results_[\"mean_test_f1\"][max_ind]"
   ]
  },
  {
   "cell_type": "code",
   "execution_count": 29,
   "metadata": {},
   "outputs": [
    {
     "data": {
      "text/plain": [
       "{'max_depth': 5, 'n_estimators': 800}"
      ]
     },
     "execution_count": 29,
     "metadata": {},
     "output_type": "execute_result"
    }
   ],
   "source": [
    "gs_cv.cv_results_[\"params\"][max_ind]"
   ]
  },
  {
   "cell_type": "markdown",
   "metadata": {},
   "source": [
    "So our grid search got an f1 score of $.709$ at max_depth = 5 and n_estimators = 800. Let's keep that for our final model"
   ]
  },
  {
   "cell_type": "markdown",
   "metadata": {},
   "source": [
    "# Final Model Metrics"
   ]
  },
  {
   "cell_type": "code",
   "execution_count": 31,
   "metadata": {},
   "outputs": [
    {
     "data": {
      "text/plain": [
       "RandomForestClassifier(bootstrap=True, class_weight=None, criterion='gini',\n",
       "                       max_depth=5, max_features='auto', max_leaf_nodes=None,\n",
       "                       min_impurity_decrease=0.0, min_impurity_split=None,\n",
       "                       min_samples_leaf=1, min_samples_split=2,\n",
       "                       min_weight_fraction_leaf=0.0, n_estimators=800,\n",
       "                       n_jobs=None, oob_score=False, random_state=None,\n",
       "                       verbose=0, warm_start=False)"
      ]
     },
     "execution_count": 31,
     "metadata": {},
     "output_type": "execute_result"
    }
   ],
   "source": [
    "final_model = RandomForestClassifier(max_depth=5,n_estimators=800)\n",
    "final_model.fit(X_train,y_train.to_numpy().ravel())"
   ]
  },
  {
   "cell_type": "code",
   "execution_count": 32,
   "metadata": {},
   "outputs": [],
   "source": [
    "y_pred = final_model.predict(X_test)\n",
    "y_pred_prob = final_model.predict_proba(X_test)"
   ]
  },
  {
   "cell_type": "code",
   "execution_count": 33,
   "metadata": {},
   "outputs": [
    {
     "data": {
      "text/plain": [
       "array([[ 98,  46],\n",
       "       [ 31, 100]])"
      ]
     },
     "execution_count": 33,
     "metadata": {},
     "output_type": "execute_result"
    }
   ],
   "source": [
    "confusion_matrix(y_test, y_pred)"
   ]
  },
  {
   "cell_type": "code",
   "execution_count": 47,
   "metadata": {},
   "outputs": [
    {
     "data": {
      "text/plain": [
       "0.72"
      ]
     },
     "execution_count": 47,
     "metadata": {},
     "output_type": "execute_result"
    }
   ],
   "source": [
    "(98+100)/(98+100+31+46) # accuracy"
   ]
  },
  {
   "cell_type": "code",
   "execution_count": 48,
   "metadata": {},
   "outputs": [
    {
     "data": {
      "text/plain": [
       "0.7633587786259542"
      ]
     },
     "execution_count": 48,
     "metadata": {},
     "output_type": "execute_result"
    }
   ],
   "source": [
    "100/131#recall"
   ]
  },
  {
   "cell_type": "code",
   "execution_count": 49,
   "metadata": {},
   "outputs": [
    {
     "data": {
      "text/plain": [
       "0.684931506849315"
      ]
     },
     "execution_count": 49,
     "metadata": {},
     "output_type": "execute_result"
    }
   ],
   "source": [
    "100/(100+46)#precision"
   ]
  },
  {
   "cell_type": "code",
   "execution_count": 34,
   "metadata": {},
   "outputs": [
    {
     "data": {
      "text/plain": [
       "0.7220216606498194"
      ]
     },
     "execution_count": 34,
     "metadata": {},
     "output_type": "execute_result"
    }
   ],
   "source": [
    "f1_score(y_test,y_pred)"
   ]
  },
  {
   "cell_type": "code",
   "execution_count": 35,
   "metadata": {},
   "outputs": [
    {
     "name": "stdout",
     "output_type": "stream",
     "text": [
      "ROC AUC score =  0.7782018659881256\n"
     ]
    },
    {
     "data": {
      "image/png": "[encoded data removed]",
      "text/plain": [
       "<Figure size 432x288 with 1 Axes>"
      ]
     },
     "metadata": {
      "needs_background": "light"
     },
     "output_type": "display_data"
    }
   ],
   "source": [
    "fpr, tpr, thresholds = roc_curve(y_test, y_pred_prob[:,1])\n",
    "\n",
    "plt.plot(fpr, tpr,lw=2)\n",
    "plt.plot([0,1],[0,1],c='violet',ls='--')\n",
    "plt.xlim([-0.05,1.05])\n",
    "plt.ylim([-0.05,1.05])\n",
    "\n",
    "\n",
    "plt.xlabel('False positive rate')\n",
    "plt.ylabel('True positive rate')\n",
    "plt.title('ROC curve for Win Classification');\n",
    "print(\"ROC AUC score = \", roc_auc_score(y_test, y_pred_prob[:,1]))"
   ]
  },
  {
   "cell_type": "code",
   "execution_count": 36,
   "metadata": {},
   "outputs": [
    {
     "name": "stdout",
     "output_type": "stream",
     "text": [
      "('first_brick', 0.2186823518212022)\n",
      "('first_dragon', 0.12809353832724293)\n",
      "('adc_vs', 0.0825212343131348)\n",
      "('sup_vs', 0.07835698808933321)\n",
      "('mid_vs', 0.07727619722211995)\n",
      "('jungle_vs', 0.06975773824738106)\n",
      "('mid_mastery', 0.057100548286203714)\n",
      "('first_herald', 0.053576527575235934)\n",
      "('top_vs', 0.04935533396329614)\n",
      "('sup_mastery', 0.04842248296058762)\n",
      "('adc_mastery', 0.04816709991929931)\n",
      "('top_mastery', 0.04296798934468598)\n",
      "('jungle_mastery', 0.04077626642234339)\n",
      "('first_blood', 0.004945703507933846)\n"
     ]
    }
   ],
   "source": [
    "for val in sorted(zip(X_train.columns,final_model.feature_importances_), key = lambda x: x[1], reverse=True):\n",
    "    print (val)"
   ]
  },
  {
   "cell_type": "code",
   "execution_count": 37,
   "metadata": {},
   "outputs": [],
   "source": [
    "from joblib import dump, load"
   ]
  },
  {
   "cell_type": "code",
   "execution_count": 38,
   "metadata": {},
   "outputs": [
    {
     "data": {
      "text/plain": [
       "['Website/rfc_model.joblib']"
      ]
     },
     "execution_count": 38,
     "metadata": {},
     "output_type": "execute_result"
    }
   ],
   "source": [
    "dump(final_model, \"Website/rfc_model.joblib\")"
   ]
  },
  {
   "cell_type": "code",
   "execution_count": 39,
   "metadata": {},
   "outputs": [],
   "source": [
    "final_model = load(\"Website/rfc_model.joblib\")"
   ]
  }
 ],
 "metadata": {
  "kernelspec": {
   "display_name": "Python 3",
   "language": "python",
   "name": "python3"
  },
  "language_info": {
   "codemirror_mode": {
    "name": "ipython",
    "version": 3
   },
   "file_extension": ".py",
   "mimetype": "text/x-python",
   "name": "python",
   "nbconvert_exporter": "python",
   "pygments_lexer": "ipython3",
   "version": "3.7.4"
  }
 },
 "nbformat": 4,
 "nbformat_minor": 2
}
